{
 "cells": [
  {
   "cell_type": "code",
   "execution_count": 4,
   "metadata": {},
   "outputs": [],
   "source": [
    "import gc\n",
    "import pickle\n",
    "import numpy as np\n",
    "import torch\n",
    "\n",
    "def datato3d(arrays):#list of np arrays, NULL*3*100\n",
    "    output=list()\n",
    "    for i in arrays:\n",
    "        i=np.transpose(i,(0,2,1))\n",
    "        output.append(i)\n",
    "    return output\n",
    "\n",
    "\n",
    "\"\"\"v flip and shuffle\"\"\"\n",
    "def udflip(X_nparray,y_nparray,shuffle=True):\n",
    "    output=np.zeros((X_nparray.shape[0],X_nparray.shape[1],X_nparray.shape[2]),dtype=np.float32)\n",
    "    for i in range(X_nparray.shape[0]):\n",
    "        output[i,:]=np.flipud(X_nparray[i,:])\n",
    "    output=np.vstack((X_nparray,output))\n",
    "    y=np.hstack((y_nparray,y_nparray))\n",
    "    if shuffle:\n",
    "        shuffle_inx=np.random.permutation(output.shape[0])\n",
    "        return output[shuffle_inx],y[shuffle_inx]\n",
    "    else:\n",
    "        return output,y\n",
    "\n",
    "with open('../preprocessing/data_61_26.pkl','rb') as f:\n",
    "    data=pickle.load(f)\n",
    "\n",
    "\n",
    "dataList=datato3d([data['X_train'],data['X_test']])\n",
    "\n"
   ]
  },
  {
   "cell_type": "code",
   "execution_count": 5,
   "metadata": {},
   "outputs": [
    {
     "data": {
      "text/plain": [
       "((3482294, 100, 3), (1511807, 100, 3), (100, 3))"
      ]
     },
     "execution_count": 5,
     "metadata": {},
     "output_type": "execute_result"
    }
   ],
   "source": [
    "data['X_train'].shape, data['X_test'].shape,data['X_train'][4].shape"
   ]
  },
  {
   "cell_type": "code",
   "execution_count": 6,
   "metadata": {},
   "outputs": [
    {
     "data": {
      "text/plain": [
       "array([[-0.534638  , -0.13460657, -0.10212614],\n",
       "       [-0.5315125 , -0.13621436, -0.10441413],\n",
       "       [-0.5282677 , -0.13790922, -0.10678139],\n",
       "       [-0.5247717 , -0.13967046, -0.1093182 ],\n",
       "       [-0.5214086 , -0.14166418, -0.11178002],\n",
       "       [-0.5186105 , -0.14416443, -0.11404308],\n",
       "       [-0.51584524, -0.14714974, -0.11625613],\n",
       "       [-0.51310384, -0.150009  , -0.1176346 ],\n",
       "       [-0.50995976, -0.15336724, -0.1183257 ],\n",
       "       [-0.5066227 , -0.15600139, -0.11892449],\n",
       "       [-0.50256747, -0.15757412, -0.11979838],\n",
       "       [-0.4981643 , -0.15875036, -0.12061948],\n",
       "       [-0.49403664, -0.15977065, -0.12102875],\n",
       "       [-0.4895038 , -0.16071746, -0.1211887 ],\n",
       "       [-0.48538697, -0.16178721, -0.12117624],\n",
       "       [-0.48106593, -0.16327563, -0.12096327],\n",
       "       [-0.47688052, -0.16467458, -0.12064461],\n",
       "       [-0.4725689 , -0.16565709, -0.1203215 ],\n",
       "       [-0.4681225 , -0.16666345, -0.11980601],\n",
       "       [-0.4644146 , -0.16823778, -0.1186564 ],\n",
       "       [-0.4607663 , -0.17047706, -0.1168242 ],\n",
       "       [-0.4573674 , -0.17262806, -0.1153663 ],\n",
       "       [-0.453687  , -0.1751236 , -0.1140762 ],\n",
       "       [-0.44995454, -0.17713062, -0.11331315],\n",
       "       [-0.4456929 , -0.17844091, -0.11335193],\n",
       "       [-0.44119957, -0.17927614, -0.11379146],\n",
       "       [-0.4369808 , -0.17943278, -0.11446804],\n",
       "       [-0.4324402 , -0.17905837, -0.11542907],\n",
       "       [-0.42836958, -0.1782334 , -0.11624599],\n",
       "       [-0.42406216, -0.17678355, -0.11707149],\n",
       "       [-0.42007723, -0.17518891, -0.11784783],\n",
       "       [-0.41609555, -0.17330278, -0.11876499],\n",
       "       [-0.41211274, -0.17127483, -0.11954117],\n",
       "       [-0.4082917 , -0.16935097, -0.11963493],\n",
       "       [-0.40417454, -0.16728002, -0.11931225],\n",
       "       [-0.40029818, -0.16555963, -0.11917473],\n",
       "       [-0.39599258, -0.16391651, -0.11914989],\n",
       "       [-0.3920008 , -0.1623472 , -0.11951701],\n",
       "       [-0.38797244, -0.16059692, -0.12073273],\n",
       "       [-0.3839765 , -0.15885925, -0.12183736],\n",
       "       [-0.37997475, -0.15719672, -0.1218923 ],\n",
       "       [-0.3757185 , -0.15551548, -0.12134892],\n",
       "       [-0.37177444, -0.15417065, -0.12044966],\n",
       "       [-0.36751366, -0.15293804, -0.11905506],\n",
       "       [-0.36348924, -0.15230827, -0.11781695],\n",
       "       [-0.3589675 , -0.15218435, -0.11659514],\n",
       "       [-0.3551385 , -0.15299109, -0.11513014],\n",
       "       [-0.35173473, -0.1551932 , -0.1130892 ],\n",
       "       [-0.34878406, -0.157757  , -0.11086071],\n",
       "       [-0.3462878 , -0.16054302, -0.10851591],\n",
       "       [-0.3439825 , -0.16345733, -0.10581368],\n",
       "       [-0.34211823, -0.16569962, -0.10273306],\n",
       "       [-0.3403271 , -0.16781768, -0.09896684],\n",
       "       [-0.33858347, -0.16947445, -0.09543113],\n",
       "       [-0.33661538, -0.17080225, -0.09143183],\n",
       "       [-0.3344947 , -0.17212386, -0.08788086],\n",
       "       [-0.33164105, -0.17401493, -0.08509444],\n",
       "       [-0.32850844, -0.17606919, -0.08254231],\n",
       "       [-0.3257149 , -0.17785414, -0.07980085],\n",
       "       [-0.32286027, -0.17963569, -0.07665712],\n",
       "       [-0.32072192, -0.18090305, -0.07325754],\n",
       "       [-0.31882608, -0.18195182, -0.06909631],\n",
       "       [-0.31692746, -0.1829964 , -0.06536572],\n",
       "       [-0.3146494 , -0.18438749, -0.06159237],\n",
       "       [-0.3121431 , -0.18558714, -0.05823408],\n",
       "       [-0.30884695, -0.18620789, -0.0553341 ],\n",
       "       [-0.3051418 , -0.18667465, -0.05280519],\n",
       "       [-0.30136642, -0.18741731, -0.05076481],\n",
       "       [-0.29730347, -0.18840821, -0.04898719],\n",
       "       [-0.29349157, -0.189799  , -0.04747869],\n",
       "       [-0.28945485, -0.19156915, -0.04618641],\n",
       "       [-0.28557935, -0.19329667, -0.04567834],\n",
       "       [-0.28141516, -0.1953211 , -0.04569884],\n",
       "       [-0.2779512 , -0.19769752, -0.04615787],\n",
       "       [-0.27451348, -0.20072323, -0.04707406],\n",
       "       [-0.2717457 , -0.20381556, -0.04806463],\n",
       "       [-0.26926348, -0.20748554, -0.04925124],\n",
       "       [-0.2671821 , -0.21113096, -0.05060828],\n",
       "       [-0.26554814, -0.21482483, -0.05249029],\n",
       "       [-0.26400965, -0.2187042 , -0.05441255],\n",
       "       [-0.2623596 , -0.22250995, -0.05548713],\n",
       "       [-0.2604332 , -0.22674134, -0.05604746],\n",
       "       [-0.25828454, -0.23028876, -0.05577878],\n",
       "       [-0.25543135, -0.23364823, -0.0544742 ],\n",
       "       [-0.25274748, -0.23669451, -0.05280309],\n",
       "       [-0.25029057, -0.23971888, -0.05058574],\n",
       "       [-0.24777882, -0.24270386, -0.04826095],\n",
       "       [-0.24510108, -0.24555536, -0.04645028],\n",
       "       [-0.24205221, -0.2485555 , -0.0447341 ],\n",
       "       [-0.23902255, -0.25114414, -0.04330447],\n",
       "       [-0.23548035, -0.25376722, -0.04193841],\n",
       "       [-0.23228154, -0.25627762, -0.04049333],\n",
       "       [-0.22925825, -0.25900018, -0.03853329],\n",
       "       [-0.22622359, -0.26180986, -0.03669449],\n",
       "       [-0.22319779, -0.2646382 , -0.03561207],\n",
       "       [-0.21981423, -0.2677576 , -0.0348954 ],\n",
       "       [-0.21637727, -0.2702885 , -0.0347536 ],\n",
       "       [-0.21207389, -0.27270603, -0.03529695],\n",
       "       [-0.20830064, -0.27460477, -0.03591798],\n",
       "       [-0.20431584, -0.275784  , -0.0364633 ]], dtype=float32)"
      ]
     },
     "execution_count": 6,
     "metadata": {},
     "output_type": "execute_result"
    }
   ],
   "source": [
    "data['X_train'][4]"
   ]
  },
  {
   "cell_type": "code",
   "execution_count": 7,
   "metadata": {},
   "outputs": [],
   "source": [
    "X_train=dataList[0]\n",
    "X_test=dataList[1]\n",
    "X_train, y_train = X_train[:, :, ::10], data['y_train'][:]\n",
    "X_test, y_test = X_test[:, :, ::10], data['y_test'][:]\n",
    "\n",
    "y_test_list=data['y_test'].tolist()\n",
    "\n",
    "NCLASS=max(y_test_list)+1\n",
    "\n",
    "X_train,y_train=udflip(X_train,y_train,shuffle=True)\n",
    "X_test,y_test=udflip(X_test,y_test,shuffle=False)\n",
    "\n",
    "X_train=torch.from_numpy(X_train)#data['X_train'])\n",
    "y_train=torch.from_numpy(y_train.astype(np.int32))#data['y_train'])\n",
    "\n",
    "X_test=torch.from_numpy(X_test)\n",
    "y_test=torch.from_numpy(y_test.astype(np.int32))  \n"
   ]
  },
  {
   "cell_type": "code",
   "execution_count": 8,
   "metadata": {},
   "outputs": [
    {
     "name": "stdout",
     "output_type": "stream",
     "text": [
      "data loaded!\n",
      "X_train_shape torch.Size([6964588, 3, 10])\n",
      "X_test_shape torch.Size([3023614, 3, 10])\n",
      "classes:  15\n"
     ]
    }
   ],
   "source": [
    "\n",
    "del data,dataList\n",
    "gc.collect()\n",
    "print('data loaded!')\n",
    "print('X_train_shape',X_train.size())\n",
    "print('X_test_shape',X_test.size())\n",
    "print('classes: ', NCLASS)"
   ]
  },
  {
   "cell_type": "code",
   "execution_count": 10,
   "metadata": {},
   "outputs": [
    {
     "data": {
      "text/plain": [
       "torch.Size([6964588, 3, 10])"
      ]
     },
     "execution_count": 10,
     "metadata": {},
     "output_type": "execute_result"
    }
   ],
   "source": [
    "X_train.shape"
   ]
  },
  {
   "cell_type": "code",
   "execution_count": 13,
   "metadata": {},
   "outputs": [],
   "source": [
    "import torch.utils.data as utils\n",
    "\n",
    "kwargs = {}\n",
    "trn_set=utils.TensorDataset(X_train,y_train)\n",
    "trn_loader=utils.DataLoader(trn_set,batch_size=2,shuffle=True,**kwargs)\n",
    "\n",
    "# tst_set=utils.TensorDataset(X_test,y_test)\n",
    "# tst_loader=utils.DataLoader(tst_set,batch_size=2,shuffle=False,**kwargs)"
   ]
  },
  {
   "cell_type": "code",
   "execution_count": 18,
   "metadata": {},
   "outputs": [],
   "source": [
    "def compute_tract_anatomical_profile(fiber_roi):\n",
    "    \"\"\"\n",
    "    计算 fiber 轨迹经过的解剖 ROI 统计信息\n",
    "    \"\"\"\n",
    "    unique, counts = np.unique(fiber_roi, return_counts=True)\n",
    "    roi_profile = dict(zip(unique, counts / len(fiber_roi)))  # 计算占比\n",
    "    return roi_profile\n"
   ]
  },
  {
   "cell_type": "code",
   "execution_count": null,
   "metadata": {},
   "outputs": [],
   "source": [
    "for batch_idx,(data,target) in enumerate(trn_loader):\n",
    "    # data = data[0]\n",
    "    # target = target[0]\n",
    "    print(data.shape)\n",
    "    print(data.shape)\n",
    "    print(data[:, 3:4, :].shape)\n",
    "    print(data[:, 3:4, :])\n",
    "    roi_profile = compute_tract_anatomical_profile(data[:, 3:4, :])\n",
    "    # print(roi_profile)\n",
    "    # print(target.shape)\n",
    "    # print(data)\n",
    "    # print(target)\n",
    "    break"
   ]
  }
 ],
 "metadata": {
  "kernelspec": {
   "display_name": "mypytorch",
   "language": "python",
   "name": "python3"
  },
  "language_info": {
   "codemirror_mode": {
    "name": "ipython",
    "version": 3
   },
   "file_extension": ".py",
   "mimetype": "text/x-python",
   "name": "python",
   "nbconvert_exporter": "python",
   "pygments_lexer": "ipython3",
   "version": "3.9.16"
  }
 },
 "nbformat": 4,
 "nbformat_minor": 2
}
